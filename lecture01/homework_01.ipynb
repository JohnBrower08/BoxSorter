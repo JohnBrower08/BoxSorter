{
  "cells": [
    {
      "cell_type": "markdown",
      "metadata": {
        "id": "520fVE8jg6J2"
      },
      "source": [
        "(lecture01:homework1)=\n",
        "# Homework 1\n",
        "\n",
        "+ Type your name and email in the \"Student details\" section below.\n",
        "+ Develop the code and generate the figures you need to solve the problems using this notebook.\n",
        "+ For the answers that require a mathematical proof or derivation you can either:\n",
        "    \n",
        "    - Type the answer using the built-in latex capabilities. In this case, simply export the notebook as a pdf and upload it on gradescope; or\n",
        "    - You can print the notebook (after you are done with all the code), write your answers by hand, scan, turn your response to a single pdf, and upload on gradescope.\n",
        "\n",
        "+ The total homework points are 100. Please note that the problems are not weighed equally.\n",
        "\n",
        "```{note}\n",
        "+ This is due before the beginning of the next lecture.\n",
        "+ Please match all the pages corresponding to each of the questions when you submit on gradescope.\n",
        "```"
      ]
    },
    {
      "cell_type": "markdown",
      "metadata": {
        "id": "O2CTjEsOg6J_"
      },
      "source": [
        "## Student details\n",
        "\n",
        "+ **First Name:** John\n",
        "+ **Last Name:** Brower\n",
        "+ **Email:** jabrower@purdue.edu\n"
      ]
    },
    {
      "cell_type": "markdown",
      "source": [],
      "metadata": {
        "id": "EVzBdduVhvXc"
      }
    },
    {
      "cell_type": "markdown",
      "metadata": {
        "id": "s1etdntsg6KA"
      },
      "source": [
        "## Problem 1 - Python as a calculator\n",
        "\n",
        "Use Python to evaluate the following expression:\n",
        "$$\n",
        "\\frac{\\sin(\\pi/3)e^{-2}}{23^2}.\n",
        "$$"
      ]
    },
    {
      "cell_type": "code",
      "execution_count": null,
      "metadata": {
        "id": "3vWmlYLBg6KB"
      },
      "outputs": [],
      "source": [
        "# John A Brower\n",
        "# jabrower@purdue.edu\n",
        "import math\n",
        "\n",
        "sin = math.sin\n",
        "pi = math.pi\n",
        "e = math.e\n",
        "\n",
        "(sin(pi/3) * e**(-2))/23**2"
      ]
    },
    {
      "cell_type": "markdown",
      "metadata": {
        "id": "JhdrMEF1g6KE"
      },
      "source": [
        "## Problem 2 - Python types\n",
        "\n",
        "Find the type of the following Python variables.\n",
        "You may use Python's capabilities to find the type. You don't have to guess it."
      ]
    },
    {
      "cell_type": "code",
      "execution_count": 11,
      "metadata": {
        "id": "loP9-8qAg6KE",
        "outputId": "7725b6f5-2592-402a-ffc0-080162be0817",
        "colab": {
          "base_uri": "https://localhost:8080/"
        }
      },
      "outputs": [
        {
          "output_type": "stream",
          "name": "stdout",
          "text": [
            "<class 'int'>\n"
          ]
        }
      ],
      "source": [
        "x = 4\n",
        "print(type(x))"
      ]
    },
    {
      "cell_type": "code",
      "execution_count": 12,
      "metadata": {
        "id": "rlwh0CyFg6KF",
        "outputId": "02f0970c-4a4b-4dc7-a0dc-5cce94d574c1",
        "colab": {
          "base_uri": "https://localhost:8080/"
        }
      },
      "outputs": [
        {
          "output_type": "stream",
          "name": "stdout",
          "text": [
            "<class 'float'>\n"
          ]
        }
      ],
      "source": [
        "y = 23.5\n",
        "print(type(y))"
      ]
    },
    {
      "cell_type": "code",
      "execution_count": 13,
      "metadata": {
        "id": "hY3Lkje3g6KG",
        "outputId": "82084372-b6e2-4f4b-e79a-031a41bea877",
        "colab": {
          "base_uri": "https://localhost:8080/"
        }
      },
      "outputs": [
        {
          "output_type": "stream",
          "name": "stdout",
          "text": [
            "<class 'float'>\n"
          ]
        }
      ],
      "source": [
        "z = 4 / 3.1\n",
        "print(type(z))"
      ]
    },
    {
      "cell_type": "code",
      "execution_count": 5,
      "metadata": {
        "id": "luT6hXhBg6KH"
      },
      "outputs": [],
      "source": [
        "a = (1, 2, 4)\n",
        "print(type(a))"
      ]
    },
    {
      "cell_type": "code",
      "execution_count": 4,
      "metadata": {
        "id": "LycCijsPg6KI"
      },
      "outputs": [],
      "source": [
        "b = [3, 4, 6]\n",
        "print(type(b))"
      ]
    },
    {
      "cell_type": "code",
      "execution_count": 8,
      "metadata": {
        "id": "loIxyRqyg6KI"
      },
      "outputs": [],
      "source": [
        "c = x > 2\n",
        "print(type(c))"
      ]
    },
    {
      "cell_type": "code",
      "execution_count": 3,
      "metadata": {
        "id": "k7JrW1B6g6KJ"
      },
      "outputs": [],
      "source": [
        "d = 'Hello there!'\n",
        "print(type(d))"
      ]
    },
    {
      "cell_type": "code",
      "execution_count": 9,
      "metadata": {
        "id": "DmRP6Buqg6KJ"
      },
      "outputs": [],
      "source": [
        "e = {'Name': 'Ilias Bilionis',\n",
        "     'Phone number': 2106012119,\n",
        "     'Zip code': 47906}\n",
        "print(type(e))"
      ]
    },
    {
      "cell_type": "code",
      "execution_count": 10,
      "metadata": {
        "id": "U0meLkVNg6KK"
      },
      "outputs": [],
      "source": [
        "import numpy as np\n",
        "f = np.zeros((10, 4))\n",
        "print(type(f))"
      ]
    }
  ],
  "metadata": {
    "kernelspec": {
      "display_name": "Python 3",
      "language": "python",
      "name": "python3"
    },
    "language_info": {
      "codemirror_mode": {
        "name": "ipython",
        "version": 3
      },
      "file_extension": ".py",
      "mimetype": "text/x-python",
      "name": "python",
      "nbconvert_exporter": "python",
      "pygments_lexer": "ipython3",
      "version": "3.8.8"
    },
    "colab": {
      "provenance": [],
      "toc_visible": true
    }
  },
  "nbformat": 4,
  "nbformat_minor": 0
}